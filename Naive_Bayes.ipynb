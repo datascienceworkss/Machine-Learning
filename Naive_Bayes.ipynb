{
  "nbformat": 4,
  "nbformat_minor": 0,
  "metadata": {
    "colab": {
      "provenance": [],
      "collapsed_sections": []
    },
    "kernelspec": {
      "name": "python3",
      "display_name": "Python 3"
    },
    "language_info": {
      "name": "python"
    }
  },
  "cells": [
    {
      "cell_type": "markdown",
      "source": [
        "### **Import Libraries**"
      ],
      "metadata": {
        "id": "LnlJ9eMbgnCM"
      }
    },
    {
      "cell_type": "code",
      "source": [
        "import numpy as np\n",
        "from sklearn.naive_bayes import GaussianNB"
      ],
      "metadata": {
        "id": "LsseJ1QZghJb"
      },
      "execution_count": null,
      "outputs": []
    },
    {
      "cell_type": "markdown",
      "source": [
        "### **Let's generate some Random Data**"
      ],
      "metadata": {
        "id": "NHLiHWeigZ4d"
      }
    },
    {
      "cell_type": "code",
      "source": [
        "input_feature_x = np.array([[-2, -1], [-3, -1], [-4, -3], [1, 1], [3, 2], [6,4]])\n",
        "output_y = np.array([1, 1, 1, 2, 2, 2])"
      ],
      "metadata": {
        "id": "twUOfdUe3U3g"
      },
      "execution_count": null,
      "outputs": []
    },
    {
      "cell_type": "markdown",
      "source": [
        "### **Create the model and fit on data**"
      ],
      "metadata": {
        "id": "XrUPghMjhuuN"
      }
    },
    {
      "cell_type": "code",
      "source": [
        "nb_classifier = GaussianNB()\n",
        "nb_classifier.fit(input_feature_x, output_y)"
      ],
      "metadata": {
        "colab": {
          "base_uri": "https://localhost:8080/"
        },
        "id": "n0VxMa4CgU6u",
        "outputId": "34420796-71f4-4eab-e8a6-e03b0f7bb9c2"
      },
      "execution_count": null,
      "outputs": [
        {
          "output_type": "execute_result",
          "data": {
            "text/plain": [
              "GaussianNB()"
            ]
          },
          "metadata": {},
          "execution_count": 5
        }
      ]
    },
    {
      "cell_type": "markdown",
      "source": [
        "### **Get Predictions**"
      ],
      "metadata": {
        "id": "IImqee7CifGn"
      }
    },
    {
      "cell_type": "code",
      "source": [
        "prediction_array = [[-8,5]]\n",
        "nb_classifier.predict(prediction_array)"
      ],
      "metadata": {
        "colab": {
          "base_uri": "https://localhost:8080/"
        },
        "id": "_wVrW2A_gUpR",
        "outputId": "6c8605ca-460d-42c9-feee-708d84866777"
      },
      "execution_count": null,
      "outputs": [
        {
          "output_type": "execute_result",
          "data": {
            "text/plain": [
              "array([2])"
            ]
          },
          "metadata": {},
          "execution_count": 7
        }
      ]
    },
    {
      "cell_type": "code",
      "source": [],
      "metadata": {
        "id": "cs047Uo45c6-"
      },
      "execution_count": null,
      "outputs": []
    }
  ]
}