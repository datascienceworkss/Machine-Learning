{
  "nbformat": 4,
  "nbformat_minor": 0,
  "metadata": {
    "colab": {
      "provenance": [],
      "collapsed_sections": []
    },
    "kernelspec": {
      "name": "python3",
      "display_name": "Python 3"
    },
    "language_info": {
      "name": "python"
    }
  },
  "cells": [
    {
      "cell_type": "markdown",
      "source": [
        "### **MEAN SQUARED ERROR (MSE)**"
      ],
      "metadata": {
        "id": "KjFGZBez-QH5"
      }
    },
    {
      "cell_type": "code",
      "source": [
        "from sklearn.metrics import mean_squared_error\n",
        "actual = [3, -0.5, 2, 7]\n",
        "predicted = [2.5, 0.2, 1, 8]\n",
        "mean_squared_error(actual, predicted)\n"
      ],
      "metadata": {
        "colab": {
          "base_uri": "https://localhost:8080/"
        },
        "id": "RKeQE1ct-Ycg",
        "outputId": "e64d8f1b-aa25-4d4b-d6b6-ae56a302cdb6"
      },
      "execution_count": null,
      "outputs": [
        {
          "output_type": "execute_result",
          "data": {
            "text/plain": [
              "0.685"
            ]
          },
          "metadata": {},
          "execution_count": 7
        }
      ]
    },
    {
      "cell_type": "markdown",
      "source": [
        "### **VERIFICATION USING THE FORMULA**"
      ],
      "metadata": {
        "id": "ESwScly7_MnK"
      }
    },
    {
      "cell_type": "code",
      "source": [
        "((3-2.5)**2 + (-0.5-0.2)**2 + (2-1)**2 + (7-8)**2) /4"
      ],
      "metadata": {
        "colab": {
          "base_uri": "https://localhost:8080/"
        },
        "id": "Deu06S2R-kQW",
        "outputId": "66ec1579-d184-421e-fcc7-6de95ae4e057"
      },
      "execution_count": null,
      "outputs": [
        {
          "output_type": "execute_result",
          "data": {
            "text/plain": [
              "0.685"
            ]
          },
          "metadata": {},
          "execution_count": 8
        }
      ]
    },
    {
      "cell_type": "code",
      "source": [],
      "metadata": {
        "id": "UxhsONCJEr1w"
      },
      "execution_count": null,
      "outputs": []
    },
    {
      "cell_type": "markdown",
      "source": [
        "### **RMSE**"
      ],
      "metadata": {
        "id": "gvBkRU1SEtB0"
      }
    },
    {
      "cell_type": "code",
      "source": [
        "actual = [3, -0.5, 2, 7]\n",
        "predicted = [2.5, 0.2, 1, 8]\n",
        "mean_squared_error(actual, predicted,squared=False)"
      ],
      "metadata": {
        "colab": {
          "base_uri": "https://localhost:8080/"
        },
        "id": "khL54Ygx-pmR",
        "outputId": "b95ee8de-09bf-4753-e96f-8c1db7db6665"
      },
      "execution_count": null,
      "outputs": [
        {
          "output_type": "execute_result",
          "data": {
            "text/plain": [
              "0.8276472678623424"
            ]
          },
          "metadata": {},
          "execution_count": 9
        }
      ]
    },
    {
      "cell_type": "code",
      "source": [
        "import math\n",
        "math.sqrt(((3-2.5)**2 + (-0.5-0.2)**2 + (2-1)**2 + (7-8)**2) /4)"
      ],
      "metadata": {
        "colab": {
          "base_uri": "https://localhost:8080/"
        },
        "id": "1T5bC_AAEim_",
        "outputId": "73a964e2-8a77-42ad-a03f-053a2911af05"
      },
      "execution_count": null,
      "outputs": [
        {
          "output_type": "execute_result",
          "data": {
            "text/plain": [
              "0.8276472678623424"
            ]
          },
          "metadata": {},
          "execution_count": 12
        }
      ]
    },
    {
      "cell_type": "code",
      "source": [
        "from sklearn.metrics import mean_absolute_error\n",
        "actual = [3, -0.5, 2, 7]\n",
        "predicted = [2.5, 0.2, 1, 8]\n",
        "mean_absolute_error(actual, predicted)\n"
      ],
      "metadata": {
        "colab": {
          "base_uri": "https://localhost:8080/"
        },
        "id": "6kQaaq3fEU0Y",
        "outputId": "95ab4f5b-0394-4a83-845b-88bd93061fcd"
      },
      "execution_count": null,
      "outputs": [
        {
          "output_type": "execute_result",
          "data": {
            "text/plain": [
              "0.8"
            ]
          },
          "metadata": {},
          "execution_count": 13
        }
      ]
    },
    {
      "cell_type": "code",
      "source": [
        "(abs(3-2.5) + abs(-0.5-0.2) + abs(2-1) + abs(7-8)) /4"
      ],
      "metadata": {
        "colab": {
          "base_uri": "https://localhost:8080/"
        },
        "id": "KtfcbvpUEdQm",
        "outputId": "f941552c-bf14-4862-9900-f07930e61dc8"
      },
      "execution_count": null,
      "outputs": [
        {
          "output_type": "execute_result",
          "data": {
            "text/plain": [
              "0.8"
            ]
          },
          "metadata": {},
          "execution_count": 15
        }
      ]
    },
    {
      "cell_type": "code",
      "source": [],
      "metadata": {
        "id": "jMw5fSi2G557"
      },
      "execution_count": null,
      "outputs": []
    }
  ]
}