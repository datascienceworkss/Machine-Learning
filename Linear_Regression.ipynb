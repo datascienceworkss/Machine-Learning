{
  "nbformat": 4,
  "nbformat_minor": 0,
  "metadata": {
    "colab": {
      "provenance": [],
      "collapsed_sections": []
    },
    "kernelspec": {
      "name": "python3",
      "display_name": "Python 3"
    },
    "language_info": {
      "name": "python"
    }
  },
  "cells": [
    {
      "cell_type": "markdown",
      "source": [
        "### **Import Libraries** "
      ],
      "metadata": {
        "id": "fad6Ibzo5LiL"
      }
    },
    {
      "cell_type": "code",
      "source": [
        "import numpy as np\n",
        "from sklearn.linear_model import LinearRegression"
      ],
      "metadata": {
        "id": "PJNchPxs5Efu"
      },
      "execution_count": null,
      "outputs": []
    },
    {
      "cell_type": "markdown",
      "source": [
        "### **Let's generate some Random Data**"
      ],
      "metadata": {
        "id": "eCvIi9EQ5y-S"
      }
    },
    {
      "cell_type": "code",
      "source": [
        "input_feature_x = np.array([4, 12, 16, 20, 24, 36, 40]).reshape((-1, 1))\n",
        "output_y = np.array([4, 17, 10, 18, 22, 38, 33])"
      ],
      "metadata": {
        "id": "8mYfbwBY4_fC"
      },
      "execution_count": null,
      "outputs": []
    },
    {
      "cell_type": "markdown",
      "source": [
        "### **Create the linear regression model and fit on data**"
      ],
      "metadata": {
        "id": "cwrBEBdN6dgy"
      }
    },
    {
      "cell_type": "code",
      "source": [
        "my_first_linear_model = LinearRegression()"
      ],
      "metadata": {
        "id": "udfjwJ0P6QIY"
      },
      "execution_count": null,
      "outputs": []
    },
    {
      "cell_type": "code",
      "source": [
        "my_first_linear_model.fit(input_feature_x, output_y)"
      ],
      "metadata": {
        "colab": {
          "base_uri": "https://localhost:8080/"
        },
        "id": "ydlQaPjM6qXe",
        "outputId": "85685ac5-e6eb-46de-db8b-f278dc0b75a1"
      },
      "execution_count": null,
      "outputs": [
        {
          "output_type": "execute_result",
          "data": {
            "text/plain": [
              "LinearRegression()"
            ]
          },
          "metadata": {},
          "execution_count": 9
        }
      ]
    },
    {
      "cell_type": "markdown",
      "source": [
        "### **Find the slope and intercept**"
      ],
      "metadata": {
        "id": "Jfgo_8eH7sG6"
      }
    },
    {
      "cell_type": "code",
      "source": [
        "my_first_linear_model.coef_"
      ],
      "metadata": {
        "colab": {
          "base_uri": "https://localhost:8080/"
        },
        "id": "Yq3z-rq59rhh",
        "outputId": "daf2cc99-89e7-44fc-ff3b-c55b92ad60aa"
      },
      "execution_count": null,
      "outputs": [
        {
          "output_type": "execute_result",
          "data": {
            "text/plain": [
              "array([0.88368056])"
            ]
          },
          "metadata": {},
          "execution_count": 10
        }
      ]
    },
    {
      "cell_type": "code",
      "source": [
        "my_first_linear_model.intercept_\n"
      ],
      "metadata": {
        "colab": {
          "base_uri": "https://localhost:8080/"
        },
        "id": "ofNUKVjA70Sy",
        "outputId": "ce724a52-db51-45db-fdff-1a401637b390"
      },
      "execution_count": null,
      "outputs": [
        {
          "output_type": "execute_result",
          "data": {
            "text/plain": [
              "1.097222222222225"
            ]
          },
          "metadata": {},
          "execution_count": 11
        }
      ]
    },
    {
      "cell_type": "code",
      "source": [
        "y = 0.883*x+1.097"
      ],
      "metadata": {
        "id": "fS4kJ6MqG9fT"
      },
      "execution_count": null,
      "outputs": []
    },
    {
      "cell_type": "markdown",
      "source": [
        "### **Get Predictions**"
      ],
      "metadata": {
        "id": "5aIpRXFS9z5v"
      }
    },
    {
      "cell_type": "code",
      "source": [
        "prediction_array = np.array([13,16]).reshape(-1,1)\n",
        "my_first_linear_model.predict(prediction_array)"
      ],
      "metadata": {
        "colab": {
          "base_uri": "https://localhost:8080/"
        },
        "id": "1gar_xPe9txW",
        "outputId": "fff3f4b4-35c1-4dcf-982c-ec3ff4f83084"
      },
      "execution_count": null,
      "outputs": [
        {
          "output_type": "execute_result",
          "data": {
            "text/plain": [
              "array([12.58506944, 15.23611111])"
            ]
          },
          "metadata": {},
          "execution_count": 17
        }
      ]
    },
    {
      "cell_type": "markdown",
      "source": [
        "## **Congratulations, You successfully completed the Linear Regression !!**"
      ],
      "metadata": {
        "id": "4WdXyqZI_Rt6"
      }
    }
  ]
}