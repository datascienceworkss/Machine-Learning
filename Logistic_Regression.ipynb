{
  "nbformat": 4,
  "nbformat_minor": 0,
  "metadata": {
    "colab": {
      "provenance": [],
      "collapsed_sections": []
    },
    "kernelspec": {
      "name": "python3",
      "display_name": "Python 3"
    },
    "language_info": {
      "name": "python"
    }
  },
  "cells": [
    {
      "cell_type": "markdown",
      "source": [
        "### **Import Libraries**"
      ],
      "metadata": {
        "id": "0fIju_FpQSJ8"
      }
    },
    {
      "cell_type": "code",
      "source": [
        "import numpy as np\n",
        "from sklearn.linear_model import LogisticRegression"
      ],
      "metadata": {
        "id": "T_p7stAbQZfc"
      },
      "execution_count": null,
      "outputs": []
    },
    {
      "cell_type": "markdown",
      "source": [
        "### **Let's generate some Random Data**"
      ],
      "metadata": {
        "id": "G8P6JSvtQiC1"
      }
    },
    {
      "cell_type": "code",
      "source": [
        "input_feature_x = np.array([4, 12, 16, 20, 24, 36, 40]).reshape((-1, 1))\n",
        "output_y = np.array([0,0,0,1,0,1,1])"
      ],
      "metadata": {
        "id": "58sgCjsKQkAV"
      },
      "execution_count": null,
      "outputs": []
    },
    {
      "cell_type": "markdown",
      "source": [
        "### **Create the logistic regression model and fit on data**"
      ],
      "metadata": {
        "id": "IdUHj6MDQyTb"
      }
    },
    {
      "cell_type": "code",
      "source": [
        "my_first_logistic_model = LogisticRegression()"
      ],
      "metadata": {
        "id": "pQB_hLZtQvRc"
      },
      "execution_count": null,
      "outputs": []
    },
    {
      "cell_type": "code",
      "source": [
        "my_first_logistic_model.fit(input_feature_x, output_y)"
      ],
      "metadata": {
        "colab": {
          "base_uri": "https://localhost:8080/"
        },
        "id": "BS9SVNhEQ-YQ",
        "outputId": "f9c99f34-78b7-499d-aa3d-8c0da4c738c4"
      },
      "execution_count": null,
      "outputs": [
        {
          "output_type": "execute_result",
          "data": {
            "text/plain": [
              "LogisticRegression()"
            ]
          },
          "metadata": {},
          "execution_count": 5
        }
      ]
    },
    {
      "cell_type": "markdown",
      "source": [
        "### **Get Predictions**"
      ],
      "metadata": {
        "id": "nIYSuDtJRLTS"
      }
    },
    {
      "cell_type": "code",
      "source": [
        "prediction_array = np.array([13,16]).reshape(-1,1)\n",
        "my_first_logistic_model.predict(prediction_array)"
      ],
      "metadata": {
        "colab": {
          "base_uri": "https://localhost:8080/"
        },
        "id": "2DV6mBn3RCW0",
        "outputId": "2abde622-6880-4fb2-becf-de85f2786c00"
      },
      "execution_count": null,
      "outputs": [
        {
          "output_type": "execute_result",
          "data": {
            "text/plain": [
              "array([0, 0])"
            ]
          },
          "metadata": {},
          "execution_count": 6
        }
      ]
    },
    {
      "cell_type": "markdown",
      "source": [
        "## **Congratulations, You successfully completed the Logistic Regression !!**"
      ],
      "metadata": {
        "id": "ZmIJQrTURWWk"
      }
    }
  ]
}